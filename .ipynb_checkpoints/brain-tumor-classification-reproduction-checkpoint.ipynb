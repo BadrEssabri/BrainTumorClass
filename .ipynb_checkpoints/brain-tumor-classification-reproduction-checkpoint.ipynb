{
 "cells": [
  {
   "cell_type": "markdown",
   "metadata": {},
   "source": [
    "# <b>1 <span style='color:#4285f4'>|</span> Importing libraries</b>\n",
    "- **For ML Models**: Tensorflow, keras\n",
    "- **For Data Manipulation**: numpy, pandas, sklearn\n",
    "- **For Data Visualization**: matplotlib, seaborn"
   ]
  },
  {
   "cell_type": "code",
   "execution_count": 1,
   "metadata": {
    "_kg_hide-input": true,
    "execution": {
     "iopub.execute_input": "2023-06-09T21:14:04.691722Z",
     "iopub.status.busy": "2023-06-09T21:14:04.691014Z",
     "iopub.status.idle": "2023-06-09T21:14:12.477175Z",
     "shell.execute_reply": "2023-06-09T21:14:12.476190Z",
     "shell.execute_reply.started": "2023-06-09T21:14:04.691609Z"
    }
   },
   "outputs": [
    {
     "name": "stderr",
     "output_type": "stream",
     "text": [
      "C:\\Users\\Badr_\\anaconda3\\lib\\site-packages\\scipy\\__init__.py:146: UserWarning: A NumPy version >=1.16.5 and <1.23.0 is required for this version of SciPy (detected version 1.23.5\n",
      "  warnings.warn(f\"A NumPy version >={np_minversion} and <{np_maxversion}\"\n"
     ]
    }
   ],
   "source": [
    "# For Data Processing\n",
    "import numpy as np\n",
    "from sklearn.utils import shuffle\n",
    "from sklearn.model_selection import train_test_split\n",
    "from sklearn.metrics import classification_report\n",
    "from PIL import Image, ImageEnhance\n",
    "\n",
    "# For ML Models\n",
    "from tensorflow import keras\n",
    "from tensorflow.keras.layers import *\n",
    "from tensorflow.keras.losses import *\n",
    "from tensorflow.keras.models import *\n",
    "from tensorflow.keras.metrics import *\n",
    "from tensorflow.keras.optimizers import *\n",
    "from tensorflow.keras.applications import *\n",
    "from tensorflow.keras.preprocessing.image import load_img\n",
    "\n",
    "# For Data Visualization\n",
    "import matplotlib.pyplot as plt\n",
    "import seaborn as sns\n",
    "\n",
    "# Miscellaneous\n",
    "from tqdm import tqdm\n",
    "import os\n",
    "import random"
   ]
  },
  {
   "cell_type": "markdown",
   "metadata": {},
   "source": [
    "# <b>2 <span style='color:#4285f4'>|</span> Reading the Dataset</b>"
   ]
  },
  {
   "cell_type": "code",
   "execution_count": 2,
   "metadata": {
    "_kg_hide-input": true,
    "execution": {
     "iopub.execute_input": "2022-04-17T19:25:01.148483Z",
     "iopub.status.busy": "2022-04-17T19:25:01.147997Z",
     "iopub.status.idle": "2022-04-17T19:25:01.173028Z",
     "shell.execute_reply": "2022-04-17T19:25:01.172038Z",
     "shell.execute_reply.started": "2022-04-17T19:25:01.148452Z"
    }
   },
   "outputs": [],
   "source": [
    "train_dir = './original-data/Training/'\n",
    "test_dir = '/original-data/Testing/'\n",
    "\n",
    "train_paths = []\n",
    "train_labels = []\n",
    "\n",
    "for label in os.listdir(train_dir):\n",
    "    for image in os.listdir(train_dir+label):\n",
    "        train_paths.append(train_dir+label+'/'+image)\n",
    "        train_labels.append(label)\n",
    "\n",
    "train_paths, train_labels = shuffle(train_paths, train_labels)"
   ]
  },
  {
   "cell_type": "code",
   "execution_count": null,
   "metadata": {
    "_kg_hide-input": true,
    "execution": {
     "iopub.execute_input": "2022-04-17T19:25:02.745344Z",
     "iopub.status.busy": "2022-04-17T19:25:02.738484Z",
     "iopub.status.idle": "2022-04-17T19:25:03.117356Z",
     "shell.execute_reply": "2022-04-17T19:25:03.116389Z",
     "shell.execute_reply.started": "2022-04-17T19:25:02.745286Z"
    }
   },
   "outputs": [],
   "source": [
    "plt.figure(figsize=(14,6))\n",
    "colors = ['#4285f4', '#ea4335', '#fbbc05', '#34a853']\n",
    "plt.rcParams.update({'font.size': 14})\n",
    "plt.pie([len([x for x in train_labels if x=='pituitary']),\n",
    "         len([x for x in train_labels if x=='notumor']),\n",
    "         len([x for x in train_labels if x=='meningioma']),\n",
    "         len([x for x in train_labels if x=='glioma'])],\n",
    "        labels=['pituitary','notumor', 'meningioma', 'glioma'],\n",
    "        colors=colors, autopct='%.1f%%', explode=(0.025,0.025,0.025,0.025),\n",
    "        startangle=30);"
   ]
  },
  {
   "cell_type": "markdown",
   "metadata": {},
   "source": [
    "#### The dataset is reasonably balanced"
   ]
  },
  {
   "cell_type": "code",
   "execution_count": null,
   "metadata": {
    "_kg_hide-input": true,
    "execution": {
     "iopub.execute_input": "2022-04-17T19:25:05.814771Z",
     "iopub.status.busy": "2022-04-17T19:25:05.813987Z",
     "iopub.status.idle": "2022-04-17T19:25:05.829695Z",
     "shell.execute_reply": "2022-04-17T19:25:05.828394Z",
     "shell.execute_reply.started": "2022-04-17T19:25:05.814739Z"
    }
   },
   "outputs": [],
   "source": [
    "test_paths = []\n",
    "test_labels = []\n",
    "\n",
    "for label in os.listdir(test_dir):\n",
    "    for image in os.listdir(test_dir+label):\n",
    "        test_paths.append(test_dir+label+'/'+image)\n",
    "        test_labels.append(label)\n",
    "\n",
    "test_paths, test_labels = shuffle(test_paths, test_labels)"
   ]
  },
  {
   "cell_type": "code",
   "execution_count": null,
   "metadata": {
    "_kg_hide-input": true,
    "execution": {
     "iopub.execute_input": "2022-04-17T19:25:09.54651Z",
     "iopub.status.busy": "2022-04-17T19:25:09.546186Z",
     "iopub.status.idle": "2022-04-17T19:25:09.661104Z",
     "shell.execute_reply": "2022-04-17T19:25:09.659834Z",
     "shell.execute_reply.started": "2022-04-17T19:25:09.546465Z"
    }
   },
   "outputs": [],
   "source": [
    "plt.figure(figsize=(14,6))\n",
    "colors = ['#4285f4', '#ea4335', '#fbbc05', '#34a853']\n",
    "plt.rcParams.update({'font.size': 14})\n",
    "plt.pie([len(train_labels), len(test_labels)],\n",
    "        labels=['Train','Test'],\n",
    "        colors=colors, autopct='%.1f%%', explode=(0.05,0),\n",
    "        startangle=30);"
   ]
  },
  {
   "cell_type": "markdown",
   "metadata": {},
   "source": [
    "# <b>3 <span style='color:#4285f4'>|</span> Data Augmentation</b>\n",
    "- Random Brightness: 80% - 120%  \n",
    "- Random Contrast: 80% - 120%\n"
   ]
  },
  {
   "cell_type": "code",
   "execution_count": null,
   "metadata": {
    "_kg_hide-input": true,
    "execution": {
     "iopub.execute_input": "2022-04-17T19:25:12.00657Z",
     "iopub.status.busy": "2022-04-17T19:25:12.006271Z",
     "iopub.status.idle": "2022-04-17T19:25:12.012862Z",
     "shell.execute_reply": "2022-04-17T19:25:12.011579Z",
     "shell.execute_reply.started": "2022-04-17T19:25:12.00654Z"
    }
   },
   "outputs": [],
   "source": [
    "def augment_image(image):\n",
    "    image = Image.fromarray(np.uint8(image))\n",
    "    image = ImageEnhance.Brightness(image).enhance(random.uniform(0.8,1.2))\n",
    "    image = ImageEnhance.Contrast(image).enhance(random.uniform(0.8,1.2))\n",
    "    image = np.array(image)/255.0\n",
    "    return image"
   ]
  },
  {
   "cell_type": "markdown",
   "metadata": {},
   "source": [
    "<h3 style=\"font-family:Sans;\">Let's plot some Samples :</h3>"
   ]
  },
  {
   "cell_type": "code",
   "execution_count": null,
   "metadata": {
    "_kg_hide-input": true,
    "execution": {
     "iopub.execute_input": "2022-04-17T19:25:14.27919Z",
     "iopub.status.busy": "2022-04-17T19:25:14.278846Z",
     "iopub.status.idle": "2022-04-17T19:25:14.861767Z",
     "shell.execute_reply": "2022-04-17T19:25:14.858831Z",
     "shell.execute_reply.started": "2022-04-17T19:25:14.279117Z"
    }
   },
   "outputs": [],
   "source": [
    "IMAGE_SIZE = 128\n",
    "\n",
    "def open_images(paths):\n",
    "    '''\n",
    "    Given a list of paths to images, this function returns the images as arrays (after augmenting them)\n",
    "    '''\n",
    "    images = []\n",
    "    for path in paths:\n",
    "        image = load_img(path, target_size=(IMAGE_SIZE,IMAGE_SIZE))\n",
    "        image = augment_image(image)\n",
    "        images.append(image)\n",
    "    return np.array(images)\n",
    "\n",
    "images = open_images(train_paths[50:59])\n",
    "labels = train_labels[50:59]\n",
    "fig = plt.figure(figsize=(12, 6))\n",
    "for x in range(1, 9):\n",
    "    fig.add_subplot(2, 4, x)\n",
    "    plt.axis('off')\n",
    "    plt.title(labels[x])\n",
    "    plt.imshow(images[x])\n",
    "plt.rcParams.update({'font.size': 12})\n",
    "plt.show()"
   ]
  },
  {
   "cell_type": "markdown",
   "metadata": {},
   "source": [
    "# <b>4 <span style='color:#4285f4'>|</span> Data Generator</b>\n",
    "<p style=\"font-size:15px; font-family:Sans; line-height: 1.7em\">\n",
    "    Given a list of paths to images, and the labels, <br>\n",
    "    this function augments the images, normalizes them, encodes the label, and then returns the batch on which the model can train on. <br>\n",
    "</p>"
   ]
  },
  {
   "cell_type": "code",
   "execution_count": null,
   "metadata": {
    "_kg_hide-input": true,
    "execution": {
     "iopub.execute_input": "2022-04-17T19:25:18.26379Z",
     "iopub.status.busy": "2022-04-17T19:25:18.263499Z",
     "iopub.status.idle": "2022-04-17T19:25:18.274096Z",
     "shell.execute_reply": "2022-04-17T19:25:18.272694Z",
     "shell.execute_reply.started": "2022-04-17T19:25:18.263761Z"
    }
   },
   "outputs": [],
   "source": [
    "unique_labels = os.listdir(train_dir)\n",
    "\n",
    "def encode_label(labels):\n",
    "    encoded = []\n",
    "    for x in labels:\n",
    "        encoded.append(unique_labels.index(x))\n",
    "    return np.array(encoded)\n",
    "\n",
    "def decode_label(labels):\n",
    "    decoded = []\n",
    "    for x in labels:\n",
    "        decoded.append(unique_labels[x])\n",
    "    return np.array(decoded)\n",
    "\n",
    "def datagen(paths, labels, batch_size=12, epochs=1):\n",
    "    for _ in range(epochs):\n",
    "        for x in range(0, len(paths), batch_size):\n",
    "            batch_paths = paths[x:x+batch_size]\n",
    "            batch_images = open_images(batch_paths)\n",
    "            batch_labels = labels[x:x+batch_size]\n",
    "            batch_labels = encode_label(batch_labels)\n",
    "            yield batch_images, batch_labels"
   ]
  },
  {
   "cell_type": "markdown",
   "metadata": {},
   "source": [
    "# <b>5 <span style='color:#4285f4'>|</span> Model</b>"
   ]
  },
  {
   "cell_type": "markdown",
   "metadata": {},
   "source": [
    "### I am using **VGG16** for transfer learning"
   ]
  },
  {
   "cell_type": "code",
   "execution_count": null,
   "metadata": {
    "_kg_hide-input": true,
    "_kg_hide-output": true,
    "execution": {
     "iopub.execute_input": "2022-04-17T19:25:20.556017Z",
     "iopub.status.busy": "2022-04-17T19:25:20.555409Z",
     "iopub.status.idle": "2022-04-17T19:25:20.960037Z",
     "shell.execute_reply": "2022-04-17T19:25:20.959033Z",
     "shell.execute_reply.started": "2022-04-17T19:25:20.555968Z"
    }
   },
   "outputs": [],
   "source": [
    "base_model = VGG16(input_shape=(IMAGE_SIZE,IMAGE_SIZE,3), include_top=False, weights='imagenet')\n",
    "# Set all layers to non-trainable\n",
    "for layer in base_model.layers:\n",
    "    layer.trainable = False\n",
    "# Set the last vgg block to trainable\n",
    "base_model.layers[-2].trainable = True\n",
    "base_model.layers[-3].trainable = True\n",
    "base_model.layers[-4].trainable = True\n",
    "\n",
    "model = Sequential()\n",
    "model.add(Input(shape=(IMAGE_SIZE,IMAGE_SIZE,3)))\n",
    "model.add(base_model)\n",
    "model.add(Flatten())\n",
    "model.add(Dropout(0.3))\n",
    "model.add(Dense(128, activation='relu'))\n",
    "model.add(Dropout(0.2))\n",
    "model.add(Dense(len(unique_labels), activation='softmax'))"
   ]
  },
  {
   "cell_type": "code",
   "execution_count": null,
   "metadata": {
    "_kg_hide-input": true,
    "execution": {
     "iopub.execute_input": "2022-04-17T19:25:23.618726Z",
     "iopub.status.busy": "2022-04-17T19:25:23.617918Z",
     "iopub.status.idle": "2022-04-17T19:25:23.633672Z",
     "shell.execute_reply": "2022-04-17T19:25:23.632404Z",
     "shell.execute_reply.started": "2022-04-17T19:25:23.618693Z"
    }
   },
   "outputs": [],
   "source": [
    "model.summary()"
   ]
  },
  {
   "cell_type": "code",
   "execution_count": null,
   "metadata": {
    "_kg_hide-input": true,
    "execution": {
     "iopub.execute_input": "2022-04-17T19:25:25.376744Z",
     "iopub.status.busy": "2022-04-17T19:25:25.376459Z",
     "iopub.status.idle": "2022-04-17T19:25:25.58156Z",
     "shell.execute_reply": "2022-04-17T19:25:25.580256Z",
     "shell.execute_reply.started": "2022-04-17T19:25:25.376715Z"
    }
   },
   "outputs": [],
   "source": [
    "keras.utils.plot_model(model, show_shapes=True)"
   ]
  },
  {
   "cell_type": "code",
   "execution_count": null,
   "metadata": {
    "_kg_hide-input": true,
    "execution": {
     "iopub.execute_input": "2022-04-17T19:25:27.744727Z",
     "iopub.status.busy": "2022-04-17T19:25:27.743887Z",
     "iopub.status.idle": "2022-04-17T19:25:27.761588Z",
     "shell.execute_reply": "2022-04-17T19:25:27.760408Z",
     "shell.execute_reply.started": "2022-04-17T19:25:27.744672Z"
    }
   },
   "outputs": [],
   "source": [
    "model.compile(optimizer=Adam(learning_rate=0.0001),\n",
    "             loss='sparse_categorical_crossentropy',\n",
    "             metrics=['sparse_categorical_accuracy'])"
   ]
  },
  {
   "cell_type": "markdown",
   "metadata": {},
   "source": [
    "# <b>6 <span style='color:#4285f4'>|</span> Train Model</b>"
   ]
  },
  {
   "cell_type": "code",
   "execution_count": null,
   "metadata": {
    "_kg_hide-input": true,
    "execution": {
     "iopub.execute_input": "2022-04-17T19:25:29.445205Z",
     "iopub.status.busy": "2022-04-17T19:25:29.444497Z",
     "iopub.status.idle": "2022-04-17T19:27:08.728116Z",
     "shell.execute_reply": "2022-04-17T19:27:08.727118Z",
     "shell.execute_reply.started": "2022-04-17T19:25:29.445172Z"
    }
   },
   "outputs": [],
   "source": [
    "batch_size = 20\n",
    "steps = int(len(train_paths)/batch_size)\n",
    "epochs = 4\n",
    "history = model.fit(datagen(train_paths, train_labels, batch_size=batch_size, epochs=epochs),\n",
    "                    epochs=epochs, steps_per_epoch=steps)"
   ]
  },
  {
   "cell_type": "code",
   "execution_count": null,
   "metadata": {
    "_kg_hide-input": true,
    "execution": {
     "iopub.execute_input": "2022-04-17T19:27:22.157958Z",
     "iopub.status.busy": "2022-04-17T19:27:22.157667Z",
     "iopub.status.idle": "2022-04-17T19:27:22.376095Z",
     "shell.execute_reply": "2022-04-17T19:27:22.375055Z",
     "shell.execute_reply.started": "2022-04-17T19:27:22.157928Z"
    }
   },
   "outputs": [],
   "source": [
    "plt.figure(figsize=(8,4))\n",
    "plt.grid(True)\n",
    "plt.plot(history.history['sparse_categorical_accuracy'], '.g-', linewidth=2)\n",
    "plt.plot(history.history['loss'], '.r-', linewidth=2)\n",
    "plt.title('Model Training History')\n",
    "plt.xlabel('epoch')\n",
    "plt.xticks([x for x in range(epochs)])\n",
    "plt.legend(['Accuracy', 'Loss'], loc='upper left', bbox_to_anchor=(1, 1))\n",
    "plt.show()"
   ]
  },
  {
   "cell_type": "markdown",
   "metadata": {},
   "source": [
    "# <b>7 <span style='color:#4285f4'>|</span> Evaluate Model with Test Samples</b>"
   ]
  },
  {
   "cell_type": "code",
   "execution_count": null,
   "metadata": {
    "_kg_hide-input": true,
    "_kg_hide-output": true,
    "execution": {
     "iopub.execute_input": "2022-04-17T19:27:24.42222Z",
     "iopub.status.busy": "2022-04-17T19:27:24.42188Z",
     "iopub.status.idle": "2022-04-17T19:27:31.924837Z",
     "shell.execute_reply": "2022-04-17T19:27:31.923776Z",
     "shell.execute_reply.started": "2022-04-17T19:27:24.422189Z"
    }
   },
   "outputs": [],
   "source": [
    "batch_size = 32\n",
    "steps = int(len(test_paths)/batch_size)\n",
    "y_pred = []\n",
    "y_true = []\n",
    "for x,y in tqdm(datagen(test_paths, test_labels, batch_size=batch_size, epochs=1), total=steps):\n",
    "    pred = model.predict(x)\n",
    "    pred = np.argmax(pred, axis=-1)\n",
    "    for i in decode_label(pred):\n",
    "        y_pred.append(i)\n",
    "    for i in decode_label(y):\n",
    "        y_true.append(i)"
   ]
  },
  {
   "cell_type": "code",
   "execution_count": null,
   "metadata": {
    "_kg_hide-input": true,
    "execution": {
     "iopub.execute_input": "2022-04-17T19:27:33.249214Z",
     "iopub.status.busy": "2022-04-17T19:27:33.248423Z",
     "iopub.status.idle": "2022-04-17T19:27:33.276443Z",
     "shell.execute_reply": "2022-04-17T19:27:33.27537Z",
     "shell.execute_reply.started": "2022-04-17T19:27:33.249172Z"
    }
   },
   "outputs": [],
   "source": [
    "print(classification_report(y_true, y_pred))"
   ]
  },
  {
   "cell_type": "markdown",
   "metadata": {},
   "source": [
    "### Please Upvote this notebook as it encourages me in doing better.\n",
    "\n",
    "\n",
    "![](http://68.media.tumblr.com/e1aed171ded2bd78cc8dc0e73b594eaf/tumblr_o17frv0cdu1u9u459o1_500.gif)"
   ]
  }
 ],
 "metadata": {
  "kernelspec": {
   "display_name": "Python 3 (ipykernel)",
   "language": "python",
   "name": "python3"
  },
  "language_info": {
   "codemirror_mode": {
    "name": "ipython",
    "version": 3
   },
   "file_extension": ".py",
   "mimetype": "text/x-python",
   "name": "python",
   "nbconvert_exporter": "python",
   "pygments_lexer": "ipython3",
   "version": "3.9.13"
  }
 },
 "nbformat": 4,
 "nbformat_minor": 4
}
